{
 "cells": [
  {
   "cell_type": "code",
   "execution_count": 1,
   "metadata": {},
   "outputs": [],
   "source": [
    "import csv"
   ]
  },
  {
   "cell_type": "code",
   "execution_count": 5,
   "metadata": {},
   "outputs": [],
   "source": [
    "all_neg_cnt = 0\n",
    "all_pos_cnt = 0\n",
    "all_tot_cnt = 0\n",
    "\n",
    "all_testing = 0\n",
    "all_training = 0\n",
    "all_validation = 0\n",
    "\n",
    "testing_neg = 0\n",
    "training_neg = 0\n",
    "validation_neg = 0\n",
    "\n",
    "testing_pos = 0\n",
    "training_pos = 0\n",
    "validation_pos = 0\n",
    "\n",
    "\n",
    "with open('HACS_clips_v1.1.csv', 'r') as f:\n",
    "    csvFile = csv.reader(f)\n",
    "    line=0\n",
    "    for row in csvFile:\n",
    "        if line == 0:\n",
    "            line += 1\n",
    "            continue\n",
    "        if int(row[5]) == -1:\n",
    "            all_neg_cnt += 1\n",
    "            testing_neg += 1 * (row[2]=='testing')\n",
    "            training_neg += 1 * (row[2]=='training')\n",
    "            validation_neg += 1 * (row[2]=='validation')\n",
    "        else:\n",
    "            all_pos_cnt += 1\n",
    "            testing_pos += 1 * (row[2]=='testing')\n",
    "            training_pos += 1 * (row[2]=='training')\n",
    "            validation_pos += 1 * (row[2]=='validation')\n",
    "        all_tot_cnt += 1\n",
    "        all_testing += 1 * (row[2]=='testing')\n",
    "        all_training += 1 * (row[2]=='training')\n",
    "        all_validation += 1 * (row[2]=='validation')"
   ]
  },
  {
   "cell_type": "code",
   "execution_count": 6,
   "metadata": {},
   "outputs": [
    {
     "name": "stdout",
     "output_type": "stream",
     "text": [
      "NEG CNT: 943818\n",
      "POS_CNT: 606224\n",
      "TOT: 1550042\n",
      "ACTUAL: 1550042\n"
     ]
    }
   ],
   "source": [
    "print(f'NEG CNT: {all_neg_cnt}\\nPOS_CNT: {all_pos_cnt}\\nTOT: {all_tot_cnt}\\nACTUAL: {all_neg_cnt + all_pos_cnt}')\n",
    "assert all_tot_cnt == all_neg_cnt + all_pos_cnt"
   ]
  },
  {
   "cell_type": "code",
   "execution_count": 7,
   "metadata": {},
   "outputs": [
    {
     "name": "stdout",
     "output_type": "stream",
     "text": [
      "NEG CNT: 0\n",
      "POS_CNT: 20296\n",
      "TOT: 20296\n",
      "ACTUAL: 20296\n"
     ]
    }
   ],
   "source": [
    "print(f'NEG CNT: {testing_neg}\\nPOS_CNT: {testing_pos}\\nTOT: {all_testing}\\nACTUAL: {testing_neg + testing_pos}')\n",
    "assert all_testing == testing_neg + testing_pos"
   ]
  },
  {
   "cell_type": "code",
   "execution_count": 8,
   "metadata": {},
   "outputs": [
    {
     "name": "stdout",
     "output_type": "stream",
     "text": [
      "NEG CNT: 936616\n",
      "POS_CNT: 572881\n",
      "TOT: 1509497\n",
      "ACTUAL: 1509497\n"
     ]
    }
   ],
   "source": [
    "print(f'NEG CNT: {training_neg}\\nPOS_CNT: {training_pos}\\nTOT: {all_training}\\nACTUAL: {training_neg + training_pos}')\n",
    "assert all_training == training_neg + training_pos"
   ]
  },
  {
   "cell_type": "code",
   "execution_count": 9,
   "metadata": {},
   "outputs": [
    {
     "name": "stdout",
     "output_type": "stream",
     "text": [
      "NEG CNT: 7202\n",
      "POS_CNT: 13047\n",
      "TOT: 20249\n",
      "ACTUAL: 20249\n"
     ]
    }
   ],
   "source": [
    "print(f'NEG CNT: {validation_neg}\\nPOS_CNT: {validation_pos}\\nTOT: {all_validation}\\nACTUAL: {validation_neg + validation_pos}')\n",
    "assert all_validation == validation_neg + validation_pos"
   ]
  },
  {
   "cell_type": "code",
   "execution_count": 50,
   "metadata": {},
   "outputs": [
    {
     "name": "stdout",
     "output_type": "stream",
     "text": [
      "[[0, 1, 2], [1, 2, 3], [2, 3, 4], [3, 4, 5], [4, 5, 6], [5, 6, 7], [6, 7, 8], [7, 8, 9], [8, 9, 10], [9, 10, 11], [10, 11, 12], [11, 12, 13], [12, 13, 14], [13, 14, 15], [14, 15, 16], [15, 16, 17]]\n",
      "18 48\n"
     ]
    }
   ],
   "source": [
    "rr_list = [i for i in range(4)]\n",
    "dist_lists = [[i for i in range(s,s+3)] for s in range(16)]\n",
    "print(dist_lists)\n",
    "# a=[set(i) for i in dist_lists]\n",
    "a = set.union(*[set(i) for i in dist_lists])\n",
    "b_len=len([y for x in dist_lists for y in x])\n",
    "a_len=len(a)\n",
    "print(a_len, b_len)\n",
    "# set(rr_list).intersection(set(set_list)) == set(rr_list)"
   ]
  },
  {
   "cell_type": "code",
   "execution_count": 52,
   "metadata": {},
   "outputs": [
    {
     "data": {
      "text/plain": [
       "[None, None, None, None, None]"
      ]
     },
     "execution_count": 52,
     "metadata": {},
     "output_type": "execute_result"
    }
   ],
   "source": [
    "ab = [None] * 5\n",
    "ab"
   ]
  }
 ],
 "metadata": {
  "kernelspec": {
   "display_name": "Python 3",
   "language": "python",
   "name": "python3"
  },
  "language_info": {
   "codemirror_mode": {
    "name": "ipython",
    "version": 3
   },
   "file_extension": ".py",
   "mimetype": "text/x-python",
   "name": "python",
   "nbconvert_exporter": "python",
   "pygments_lexer": "ipython3",
   "version": "3.7.3"
  },
  "latex_envs": {
   "LaTeX_envs_menu_present": true,
   "autoclose": false,
   "autocomplete": true,
   "bibliofile": "biblio.bib",
   "cite_by": "apalike",
   "current_citInitial": 1,
   "eqLabelWithNumbers": true,
   "eqNumInitial": 1,
   "hotkeys": {
    "equation": "Ctrl-E",
    "itemize": "Ctrl-I"
   },
   "labels_anchors": false,
   "latex_user_defs": false,
   "report_style_numbering": false,
   "user_envs_cfg": false
  }
 },
 "nbformat": 4,
 "nbformat_minor": 2
}
